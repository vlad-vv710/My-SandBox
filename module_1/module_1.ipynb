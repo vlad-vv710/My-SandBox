{
  "nbformat": 4,
  "nbformat_minor": 0,
  "metadata": {
    "colab": {
      "name": "module_1.ipynb",
      "provenance": []
    },
    "kernelspec": {
      "display_name": "Python 3 (ipykernel)",
      "language": "python",
      "name": "python3"
    },
    "language_info": {
      "codemirror_mode": {
        "name": "ipython",
        "version": 3
      },
      "file_extension": ".py",
      "mimetype": "text/x-python",
      "name": "python",
      "nbconvert_exporter": "python",
      "pygments_lexer": "ipython3",
      "version": "3.8.10"
    }
  },
  "cells": [
    {
      "cell_type": "code",
      "metadata": {
        "_cell_guid": "b1076dfc-b9ad-4769-8c92-a6c4dae69d19",
        "_uuid": "8f2839f25d086af736a60e9eeb907d3b93b6e0e5",
        "id": "U2D2gTdJVp90",
        "tags": []
      },
      "source": [
        "import numpy as np\n",
        "import pandas as pd\n",
        "import seaborn as sns\n",
        "import matplotlib.pyplot as plt\n",
        "from collections import Counter\n",
        "from itertools import combinations\n",
        "import operator\n",
        "import calendar"
      ],
      "execution_count": 3,
      "outputs": []
    },
    {
      "cell_type": "code",
      "metadata": {
        "_cell_guid": "79c7e3d0-c299-4dcb-8224-4455121ee9b0",
        "_uuid": "d629ff2d2480ee46fbb7e2d37f6b5fab8052498a",
        "colab": {
          "base_uri": "https://localhost:8080/",
          "height": 683
        },
        "id": "oyGfxL3eVp9-",
        "outputId": "7efaff9c-8b01-4422-838f-350c33614699"
      },
      "source": [
        "data = pd.read_csv('movie_bd_v5.csv')\n",
        "data.sample(5)"
      ],
      "execution_count": 4,
      "outputs": [
        {
          "output_type": "execute_result",
          "data": {
            "text/html": [
              "<div>\n",
              "<style scoped>\n",
              "    .dataframe tbody tr th:only-of-type {\n",
              "        vertical-align: middle;\n",
              "    }\n",
              "\n",
              "    .dataframe tbody tr th {\n",
              "        vertical-align: top;\n",
              "    }\n",
              "\n",
              "    .dataframe thead th {\n",
              "        text-align: right;\n",
              "    }\n",
              "</style>\n",
              "<table border=\"1\" class=\"dataframe\">\n",
              "  <thead>\n",
              "    <tr style=\"text-align: right;\">\n",
              "      <th></th>\n",
              "      <th>imdb_id</th>\n",
              "      <th>budget</th>\n",
              "      <th>revenue</th>\n",
              "      <th>original_title</th>\n",
              "      <th>cast</th>\n",
              "      <th>director</th>\n",
              "      <th>tagline</th>\n",
              "      <th>overview</th>\n",
              "      <th>runtime</th>\n",
              "      <th>genres</th>\n",
              "      <th>production_companies</th>\n",
              "      <th>release_date</th>\n",
              "      <th>vote_average</th>\n",
              "      <th>release_year</th>\n",
              "    </tr>\n",
              "  </thead>\n",
              "  <tbody>\n",
              "    <tr>\n",
              "      <th>389</th>\n",
              "      <td>tt0955308</td>\n",
              "      <td>200000000</td>\n",
              "      <td>310669540</td>\n",
              "      <td>Robin Hood</td>\n",
              "      <td>Russell Crowe|Cate Blanchett|Mark Strong|Oscar...</td>\n",
              "      <td>Ridley Scott</td>\n",
              "      <td>Rise and rise again, until lambs become lions.</td>\n",
              "      <td>When soldier Robin happens upon the dying Robe...</td>\n",
              "      <td>140</td>\n",
              "      <td>Action</td>\n",
              "      <td>Imagine Entertainment|Universal Pictures|Scott...</td>\n",
              "      <td>5/12/2010</td>\n",
              "      <td>6.1</td>\n",
              "      <td>2010</td>\n",
              "    </tr>\n",
              "    <tr>\n",
              "      <th>558</th>\n",
              "      <td>tt0179626</td>\n",
              "      <td>60000000</td>\n",
              "      <td>56359980</td>\n",
              "      <td>15 Minutes</td>\n",
              "      <td>Robert De Niro|Charlize Theron|Edward Burns|Ke...</td>\n",
              "      <td>John Herzfeld</td>\n",
              "      <td>America Likes to Watch</td>\n",
              "      <td>When Eastern European criminals Oleg and Emil ...</td>\n",
              "      <td>120</td>\n",
              "      <td>Action|Crime|Thriller</td>\n",
              "      <td>New Line Cinema|Industry Entertainment|Tribeca...</td>\n",
              "      <td>3/1/2001</td>\n",
              "      <td>5.7</td>\n",
              "      <td>2001</td>\n",
              "    </tr>\n",
              "    <tr>\n",
              "      <th>1752</th>\n",
              "      <td>tt0829459</td>\n",
              "      <td>16000000</td>\n",
              "      <td>18928871</td>\n",
              "      <td>A Mighty Heart</td>\n",
              "      <td>Angelina Jolie|Dan Futterman|Irrfan Khan|Archi...</td>\n",
              "      <td>Michael Winterbottom</td>\n",
              "      <td>One woman dared to keep hope alive</td>\n",
              "      <td>Based on Mariane Pearl's account of the terrif...</td>\n",
              "      <td>100</td>\n",
              "      <td>Drama|Thriller</td>\n",
              "      <td>Plan B Entertainment|Revolution Films|Paramoun...</td>\n",
              "      <td>1/1/2007</td>\n",
              "      <td>6.7</td>\n",
              "      <td>2007</td>\n",
              "    </tr>\n",
              "    <tr>\n",
              "      <th>1293</th>\n",
              "      <td>tt2473682</td>\n",
              "      <td>5000000</td>\n",
              "      <td>86362372</td>\n",
              "      <td>Paranormal Activity: The Marked Ones</td>\n",
              "      <td>Richard Cabral|Carlos Pratts|Eddie J. Fernande...</td>\n",
              "      <td>Christopher B. Landon</td>\n",
              "      <td>You're one of us now.</td>\n",
              "      <td>Seventeen-year-old Jesse has been hearing terr...</td>\n",
              "      <td>84</td>\n",
              "      <td>Horror|Thriller</td>\n",
              "      <td>Blumhouse Productions|Room 101|Solana Films</td>\n",
              "      <td>12/31/2013</td>\n",
              "      <td>5.3</td>\n",
              "      <td>2013</td>\n",
              "    </tr>\n",
              "    <tr>\n",
              "      <th>1380</th>\n",
              "      <td>tt0399146</td>\n",
              "      <td>32000000</td>\n",
              "      <td>60740827</td>\n",
              "      <td>A History of Violence</td>\n",
              "      <td>Viggo Mortensen|Maria Bello|Heidi Hayes|Ashton...</td>\n",
              "      <td>David Cronenberg</td>\n",
              "      <td>Tom Stall had the perfect life... until he bec...</td>\n",
              "      <td>An average family is thrust into the spotlight...</td>\n",
              "      <td>96</td>\n",
              "      <td>Drama|Thriller|Crime</td>\n",
              "      <td>New Line Cinema|DC Comics|BenderSpink</td>\n",
              "      <td>9/23/2005</td>\n",
              "      <td>6.7</td>\n",
              "      <td>2005</td>\n",
              "    </tr>\n",
              "  </tbody>\n",
              "</table>\n",
              "</div>"
            ],
            "text/plain": [
              "        imdb_id     budget    revenue  ... release_date vote_average release_year\n",
              "389   tt0955308  200000000  310669540  ...    5/12/2010          6.1         2010\n",
              "558   tt0179626   60000000   56359980  ...     3/1/2001          5.7         2001\n",
              "1752  tt0829459   16000000   18928871  ...     1/1/2007          6.7         2007\n",
              "1293  tt2473682    5000000   86362372  ...   12/31/2013          5.3         2013\n",
              "1380  tt0399146   32000000   60740827  ...    9/23/2005          6.7         2005\n",
              "\n",
              "[5 rows x 14 columns]"
            ]
          },
          "metadata": {},
          "execution_count": 4
        }
      ]
    },
    {
      "cell_type": "code",
      "metadata": {
        "colab": {
          "base_uri": "https://localhost:8080/",
          "height": 297
        },
        "id": "CoYUnagMVp-C",
        "outputId": "dd18ed55-8c21-4330-9b91-fda473249908"
      },
      "source": [
        "data.describe()"
      ],
      "execution_count": 5,
      "outputs": [
        {
          "output_type": "execute_result",
          "data": {
            "text/html": [
              "<div>\n",
              "<style scoped>\n",
              "    .dataframe tbody tr th:only-of-type {\n",
              "        vertical-align: middle;\n",
              "    }\n",
              "\n",
              "    .dataframe tbody tr th {\n",
              "        vertical-align: top;\n",
              "    }\n",
              "\n",
              "    .dataframe thead th {\n",
              "        text-align: right;\n",
              "    }\n",
              "</style>\n",
              "<table border=\"1\" class=\"dataframe\">\n",
              "  <thead>\n",
              "    <tr style=\"text-align: right;\">\n",
              "      <th></th>\n",
              "      <th>budget</th>\n",
              "      <th>revenue</th>\n",
              "      <th>runtime</th>\n",
              "      <th>vote_average</th>\n",
              "      <th>release_year</th>\n",
              "    </tr>\n",
              "  </thead>\n",
              "  <tbody>\n",
              "    <tr>\n",
              "      <th>count</th>\n",
              "      <td>1.889000e+03</td>\n",
              "      <td>1.889000e+03</td>\n",
              "      <td>1889.000000</td>\n",
              "      <td>1889.000000</td>\n",
              "      <td>1889.000000</td>\n",
              "    </tr>\n",
              "    <tr>\n",
              "      <th>mean</th>\n",
              "      <td>5.431083e+07</td>\n",
              "      <td>1.553653e+08</td>\n",
              "      <td>109.658549</td>\n",
              "      <td>6.140762</td>\n",
              "      <td>2007.860773</td>\n",
              "    </tr>\n",
              "    <tr>\n",
              "      <th>std</th>\n",
              "      <td>4.858721e+07</td>\n",
              "      <td>2.146698e+08</td>\n",
              "      <td>18.017041</td>\n",
              "      <td>0.764763</td>\n",
              "      <td>4.468841</td>\n",
              "    </tr>\n",
              "    <tr>\n",
              "      <th>min</th>\n",
              "      <td>5.000000e+06</td>\n",
              "      <td>2.033165e+06</td>\n",
              "      <td>63.000000</td>\n",
              "      <td>3.300000</td>\n",
              "      <td>2000.000000</td>\n",
              "    </tr>\n",
              "    <tr>\n",
              "      <th>25%</th>\n",
              "      <td>2.000000e+07</td>\n",
              "      <td>3.456058e+07</td>\n",
              "      <td>97.000000</td>\n",
              "      <td>5.600000</td>\n",
              "      <td>2004.000000</td>\n",
              "    </tr>\n",
              "    <tr>\n",
              "      <th>50%</th>\n",
              "      <td>3.800000e+07</td>\n",
              "      <td>8.361541e+07</td>\n",
              "      <td>107.000000</td>\n",
              "      <td>6.100000</td>\n",
              "      <td>2008.000000</td>\n",
              "    </tr>\n",
              "    <tr>\n",
              "      <th>75%</th>\n",
              "      <td>7.200000e+07</td>\n",
              "      <td>1.782626e+08</td>\n",
              "      <td>120.000000</td>\n",
              "      <td>6.600000</td>\n",
              "      <td>2012.000000</td>\n",
              "    </tr>\n",
              "    <tr>\n",
              "      <th>max</th>\n",
              "      <td>3.800000e+08</td>\n",
              "      <td>2.781506e+09</td>\n",
              "      <td>214.000000</td>\n",
              "      <td>8.100000</td>\n",
              "      <td>2015.000000</td>\n",
              "    </tr>\n",
              "  </tbody>\n",
              "</table>\n",
              "</div>"
            ],
            "text/plain": [
              "             budget       revenue      runtime  vote_average  release_year\n",
              "count  1.889000e+03  1.889000e+03  1889.000000   1889.000000   1889.000000\n",
              "mean   5.431083e+07  1.553653e+08   109.658549      6.140762   2007.860773\n",
              "std    4.858721e+07  2.146698e+08    18.017041      0.764763      4.468841\n",
              "min    5.000000e+06  2.033165e+06    63.000000      3.300000   2000.000000\n",
              "25%    2.000000e+07  3.456058e+07    97.000000      5.600000   2004.000000\n",
              "50%    3.800000e+07  8.361541e+07   107.000000      6.100000   2008.000000\n",
              "75%    7.200000e+07  1.782626e+08   120.000000      6.600000   2012.000000\n",
              "max    3.800000e+08  2.781506e+09   214.000000      8.100000   2015.000000"
            ]
          },
          "metadata": {},
          "execution_count": 5
        }
      ]
    },
    {
      "cell_type": "markdown",
      "metadata": {
        "id": "DTIt7ezGVp-G"
      },
      "source": [
        "# Предобработка"
      ]
    },
    {
      "cell_type": "code",
      "metadata": {
        "id": "jNb40DwKVp-H"
      },
      "source": [
        "answers = {} # создадим словарь для ответов\n",
        "\n",
        "# добавим новые колонки\n",
        "data['profit'] = data['revenue'] - data['budget']\n",
        "data['release_month'] = data.release_date.apply(lambda x: int(x.split('/')[0]))\n",
        "data['title_len'] = data.original_title.apply(lambda x: len(x))\n",
        "data['descr_len'] = data.overview.apply(lambda x: len(x.split(' ')))\n",
        "\n",
        "# функция для определения имени фильма из выборки\n",
        "def get_film_name(films_dataset):\n",
        "    film = films_dataset[['original_title', 'imdb_id']].values[0]\n",
        "    return f'{film[0]} ({film[1]})'\n",
        "\n",
        "# функция для получения словаря с количеством\n",
        "def get_counts_dict(dataset, column, separator='|'):\n",
        "    counts_dict = {}\n",
        "    for row in dataset[column].str.split(separator):\n",
        "        for value in row:\n",
        "            if value not in counts_dict:\n",
        "                counts_dict[value] = 1\n",
        "            else:\n",
        "                counts_dict[value] += 1\n",
        "    return counts_dict\n",
        "\n",
        "# функция для получения топового значения\n",
        "def get_top_value(prepared_dict):\n",
        "    # сортируем подготовленный словарь, возвращаем только текст из первой строки\n",
        "    return sorted(\n",
        "        prepared_dict.items(),\n",
        "        key=operator.itemgetter(1),\n",
        "        reverse=True\n",
        "    )[0][0]\n",
        "\n"
      ],
      "execution_count": 6,
      "outputs": []
    },
    {
      "cell_type": "markdown",
      "metadata": {
        "id": "YxZaH-nPVp-L"
      },
      "source": [
        "# 1. У какого фильма из списка самый большой бюджет?"
      ]
    },
    {
      "cell_type": "code",
      "metadata": {
        "id": "uVnXAY5RVp-O"
      },
      "source": [
        "answers['1'] = get_film_name(\n",
        "    data[data.budget == data.budget.max()]\n",
        ")"
      ],
      "execution_count": 7,
      "outputs": []
    },
    {
      "cell_type": "markdown",
      "metadata": {
        "id": "FNRbbI3vVp-c"
      },
      "source": [
        "# 2. Какой из фильмов самый длительный (в минутах)?"
      ]
    },
    {
      "cell_type": "code",
      "metadata": {
        "id": "vHAoEXNTVp-d"
      },
      "source": [
        "answers['2'] = get_film_name(\n",
        "    data[data.runtime == data.runtime.max()][['original_title', 'imdb_id']]\n",
        ")"
      ],
      "execution_count": 8,
      "outputs": []
    },
    {
      "cell_type": "markdown",
      "metadata": {
        "id": "bapLlpW8Vp-k"
      },
      "source": [
        "# 3. Какой из фильмов самый короткий (в минутах)?\n",
        "\n",
        "\n",
        "\n"
      ]
    },
    {
      "cell_type": "code",
      "metadata": {
        "id": "YBxaSHuAVp-l"
      },
      "source": [
        "answers['3'] = get_film_name(\n",
        "    data[data.runtime == data.runtime.min()]\n",
        ")"
      ],
      "execution_count": 9,
      "outputs": []
    },
    {
      "cell_type": "markdown",
      "metadata": {
        "id": "TfQbxbfNVp-p"
      },
      "source": [
        "# 4. Какова средняя длительность фильмов?\n"
      ]
    },
    {
      "cell_type": "code",
      "metadata": {
        "id": "5K6dKZYVVp-q"
      },
      "source": [
        "answers['4'] = round(data.runtime.mean())"
      ],
      "execution_count": 10,
      "outputs": []
    },
    {
      "cell_type": "markdown",
      "metadata": {
        "id": "r5TvbnT_Vp-u"
      },
      "source": [
        "# 5. Каково медианное значение длительности фильмов? "
      ]
    },
    {
      "cell_type": "code",
      "metadata": {
        "id": "iBROplKnVp-v"
      },
      "source": [
        "answers['5'] = data.runtime.median()"
      ],
      "execution_count": 11,
      "outputs": []
    },
    {
      "cell_type": "markdown",
      "metadata": {
        "id": "39P-deDSVp-y"
      },
      "source": [
        "# 6. Какой самый прибыльный фильм?\n",
        "#### Внимание! Здесь и далее под «прибылью» или «убытками» понимается разность между сборами и бюджетом фильма. (прибыль = сборы - бюджет) в нашем датасете это будет (profit = revenue - budget) "
      ]
    },
    {
      "cell_type": "code",
      "metadata": {
        "id": "UYZh4T9WVp-y"
      },
      "source": [
        "answers['6'] = get_film_name(\n",
        "    data[data.profit == data.profit.max()]\n",
        ")"
      ],
      "execution_count": 12,
      "outputs": []
    },
    {
      "cell_type": "markdown",
      "metadata": {
        "id": "M99JmIX4Vp-2"
      },
      "source": [
        "# 7. Какой фильм самый убыточный? "
      ]
    },
    {
      "cell_type": "code",
      "metadata": {
        "id": "w-D2m4XPVp-3"
      },
      "source": [
        "answers['7'] = get_film_name(\n",
        "    data[data.profit == data.profit.min()]\n",
        ")"
      ],
      "execution_count": 13,
      "outputs": []
    },
    {
      "cell_type": "markdown",
      "metadata": {
        "id": "wEOM5ERVVp-6"
      },
      "source": [
        "# 8. У скольких фильмов из датасета объем сборов оказался выше бюджета?"
      ]
    },
    {
      "cell_type": "code",
      "metadata": {
        "id": "y00_7HD6Vp-7"
      },
      "source": [
        "answers['8'] = data[data.revenue > data.budget].count()[0]"
      ],
      "execution_count": 14,
      "outputs": []
    },
    {
      "cell_type": "markdown",
      "metadata": {
        "id": "xhpspA9KVp_A"
      },
      "source": [
        "# 9. Какой фильм оказался самым кассовым в 2008 году?"
      ]
    },
    {
      "cell_type": "code",
      "metadata": {
        "id": "MoUyQr9RVp_B"
      },
      "source": [
        "part_data = data[data.release_year == 2008]\n",
        "answers['9'] = get_film_name(\n",
        "    part_data[part_data.revenue == part_data.revenue.max()]\n",
        ")"
      ],
      "execution_count": 15,
      "outputs": []
    },
    {
      "cell_type": "markdown",
      "metadata": {
        "id": "Zi4hDKidVp_F"
      },
      "source": [
        "# 10. Самый убыточный фильм за период с 2012 по 2014 г. (включительно)?\n"
      ]
    },
    {
      "cell_type": "code",
      "metadata": {
        "id": "XqyRmufJVp_F"
      },
      "source": [
        "part_data = data[(data.release_year >= 2012) & (data.release_year <= 2014)]\n",
        "answers['10'] = get_film_name(\n",
        "    part_data[part_data.profit == part_data.profit.min()]\n",
        ")"
      ],
      "execution_count": 16,
      "outputs": []
    },
    {
      "cell_type": "markdown",
      "metadata": {
        "id": "EA7Sa9dkVp_I"
      },
      "source": [
        "# 11. Какого жанра фильмов больше всего?"
      ]
    },
    {
      "cell_type": "code",
      "metadata": {
        "id": "zsJAwJ8QVp_J"
      },
      "source": [
        "# вариант 1 - перебор всех вариантов и запись их в словарь\n",
        "genres_count = get_counts_dict(data, 'genres')\n",
        "\n",
        "answers['11'] = get_top_value(genres_count)"
      ],
      "execution_count": 17,
      "outputs": []
    },
    {
      "cell_type": "code",
      "metadata": {
        "id": "otO3SbrSVp_N",
        "tags": []
      },
      "source": [
        "# вариант 2 - получить новую таблицу, в каждой строке которой будет по жанру\n",
        "# В качетсве ответа возьмём самый повторяемый вариант\n",
        "\n",
        "answer_11 = pd.DataFrame(\n",
        "    {'genre': np.concatenate(data.genres.str.split('|').values)}\n",
        ").describe().loc['top'][0]\n",
        "\n",
        "# убедимся, что полученный ответ совпадает с первым вариантом\n",
        "assert answer_11 == answers['11'], 'Alternate answer is not equal to base answer'"
      ],
      "execution_count": 18,
      "outputs": []
    },
    {
      "cell_type": "markdown",
      "metadata": {
        "id": "T9_bPWpkVp_Q"
      },
      "source": [
        "# 12. Фильмы какого жанра чаще всего становятся прибыльными? "
      ]
    },
    {
      "cell_type": "code",
      "metadata": {
        "id": "Tmt8MaK1Vp_R"
      },
      "source": [
        "# создадим словарь с жанрами, сохраняя в него массив с прибылями\n",
        "genres_profit = {}\n",
        "\n",
        "for x in data[['genres', 'profit']].values:\n",
        "    genres = x[0]\n",
        "    profit = x[1]\n",
        "    for genre in genres.split('|'):\n",
        "        if genre not in genres_profit:\n",
        "            genres_profit[genre] = []\n",
        "        genres_profit[genre].append(profit)\n",
        "\n",
        "# посчитаем среднюю прибыль по жанрам\n",
        "genres_profit = {x: (sum(genres_profit[x]) / len(genres_profit[x])) for x in genres_profit}\n",
        "\n",
        "# ответ на \"Фильмы какого жанра чаще всего становятся прибыльными\"\n",
        "answers['12'] = get_top_value(genres_profit)  # Fantasy\n",
        "\n",
        "# ответ на \"Какого жанра среди прибыльных фильмов больше всего\"\n",
        "genres_count = get_counts_dict(data[data.profit > 0], 'genres')\n",
        "answers['12'] = get_top_value(genres_count)  # Drama"
      ],
      "execution_count": 19,
      "outputs": []
    },
    {
      "cell_type": "markdown",
      "metadata": {
        "id": "0F23bgsDVp_U"
      },
      "source": [
        "# 13. У какого режиссера самые большие суммарные кассовые сборы?"
      ]
    },
    {
      "cell_type": "code",
      "metadata": {
        "id": "K6Z3J8ygVp_X"
      },
      "source": [
        "answers['13'] = data.groupby(['director']).revenue.sum().sort_values(ascending=False).index[0]"
      ],
      "execution_count": 20,
      "outputs": []
    },
    {
      "cell_type": "markdown",
      "metadata": {
        "id": "PsYC9FgRVp_a"
      },
      "source": [
        "# 14. Какой режисер снял больше всего фильмов в стиле Action?"
      ]
    },
    {
      "cell_type": "code",
      "metadata": {
        "id": "wd2M-wHeVp_b"
      },
      "source": [
        "directors = {}\n",
        "answer_options = ['Ridley Scott', 'Guy Ritchie', 'Robert Rodriguez', 'Quentin Tarantino', 'Tony Scott']\n",
        "\n",
        "for x in data[['genres', 'director']].values:\n",
        "    genres = x[0]\n",
        "    director = x[1]\n",
        "    if 'Action' in x[0]:\n",
        "      for d in answer_options:\n",
        "        if d in x[1]:\n",
        "          if d not in directors:\n",
        "           directors[d] = 1\n",
        "          else:\n",
        "            directors[d] += 1\n",
        "\n",
        "directors = sorted(\n",
        "    directors.items(),\n",
        "    key=operator.itemgetter(1),\n",
        "    reverse=True\n",
        ")\n",
        "\n",
        "answers['14'] = directors[0][0]"
      ],
      "execution_count": 21,
      "outputs": []
    },
    {
      "cell_type": "markdown",
      "metadata": {
        "id": "PQ0KciD7Vp_f"
      },
      "source": [
        "# 15. Фильмы с каким актером принесли самые высокие кассовые сборы в 2012 году? "
      ]
    },
    {
      "cell_type": "code",
      "metadata": {
        "id": "aga62oeKVp_g"
      },
      "source": [
        "part_data = data[data.release_year == 2012]\n",
        "most_revenue_actors = part_data[part_data.revenue == part_data.revenue.max()].cast.values[0].split('|')\n",
        "answer_options = ['Nicolas Cage', 'Tom Hardy', 'Chris Hemsworth', 'Jim Sturgess', 'Emma Stone']\n",
        "answers['15'] = [x for x in most_revenue_actors if x in answer_options][0]"
      ],
      "execution_count": 22,
      "outputs": []
    },
    {
      "cell_type": "markdown",
      "metadata": {
        "id": "mWHyyL7QVp_j"
      },
      "source": [
        "# 16. Какой актер снялся в большем количестве высокобюджетных фильмов? (бюджет выше среднего)"
      ]
    },
    {
      "cell_type": "code",
      "metadata": {
        "id": "qQtmHKTFVp_k"
      },
      "source": [
        "actors = get_counts_dict(data[data.budget > data.budget.mean()], 'cast')\n",
        "answers['16'] = get_top_value(actors)"
      ],
      "execution_count": 23,
      "outputs": []
    },
    {
      "cell_type": "markdown",
      "metadata": {
        "id": "NIh6AaW5Vp_n"
      },
      "source": [
        "# 17. В фильмах какого жанра больше всего снимался Nicolas Cage? "
      ]
    },
    {
      "cell_type": "code",
      "metadata": {
        "id": "H74SJDIBVp_n"
      },
      "source": [
        "genres = get_counts_dict(data[data['cast'].str.contains(\"Nicolas Cage\")], 'genres')\n",
        "answers['17'] = get_top_value(genres)"
      ],
      "execution_count": 24,
      "outputs": []
    },
    {
      "cell_type": "markdown",
      "metadata": {
        "id": "RqOmPRfWVp_q"
      },
      "source": [
        "# 18. Самый убыточный фильм от Paramount Pictures"
      ]
    },
    {
      "cell_type": "code",
      "metadata": {
        "id": "9E_B0Y96Vp_r"
      },
      "source": [
        "paramount_films = data[data['production_companies'].str.contains(\"Paramount Pictures\")]\n",
        "answers['18'] = get_film_name(\n",
        "    paramount_films[paramount_films.profit == paramount_films.profit.min()]\n",
        ")"
      ],
      "execution_count": 25,
      "outputs": []
    },
    {
      "cell_type": "markdown",
      "metadata": {
        "id": "vS8Ur6ddVp_u"
      },
      "source": [
        "# 19. Какой год стал самым успешным по суммарным кассовым сборам?"
      ]
    },
    {
      "cell_type": "code",
      "metadata": {
        "id": "Dnbt4GdIVp_v"
      },
      "source": [
        "sum_rev = data.pivot_table(values = 'revenue', index = 'release_year', fill_value=0, aggfunc = 'sum')\n",
        "answers['19'] = sum_rev[sum_rev.revenue == sum_rev.revenue.max()].index[0]"
      ],
      "execution_count": 26,
      "outputs": []
    },
    {
      "cell_type": "markdown",
      "metadata": {
        "id": "JAzJh4QAVp_z"
      },
      "source": [
        "# 20. Какой самый прибыльный год для студии Warner Bros?"
      ]
    },
    {
      "cell_type": "code",
      "metadata": {
        "id": "wgVu02DEVp_0"
      },
      "source": [
        "warn_data = data[data['production_companies'].str.contains('Warner Bros')]\n",
        "sum_rev = warn_data.pivot_table(values = 'revenue', index = 'release_year', fill_value=0, aggfunc = 'sum')\n",
        "answers['20'] = sum_rev[sum_rev.revenue == sum_rev.revenue.max()].index[0]"
      ],
      "execution_count": 27,
      "outputs": []
    },
    {
      "cell_type": "markdown",
      "metadata": {
        "id": "8Im1S2HRVp_4"
      },
      "source": [
        "# 21. В каком месяце за все годы суммарно вышло больше всего фильмов?"
      ]
    },
    {
      "cell_type": "code",
      "metadata": {
        "id": "lev6TH7gVp_4"
      },
      "source": [
        "month_pivot = data.pivot_table(columns = 'release_month', aggfunc = 'count').iloc[0]\n",
        "answers['21'] = calendar.month_name[month_pivot.idxmax()]"
      ],
      "execution_count": 28,
      "outputs": []
    },
    {
      "cell_type": "markdown",
      "metadata": {
        "id": "uAJsZ_NeVp_7"
      },
      "source": [
        "# 22. Сколько суммарно вышло фильмов летом? (за июнь, июль, август)"
      ]
    },
    {
      "cell_type": "code",
      "metadata": {
        "id": "Aa-hEREoVp_8"
      },
      "source": [
        "answers['22'] = sum(\n",
        "    data[\n",
        "        data.release_month.isin([6, 7, 8])\n",
        "    ].pivot_table(columns = 'release_month', aggfunc = 'count').iloc[0].values\n",
        ")"
      ],
      "execution_count": 29,
      "outputs": []
    },
    {
      "cell_type": "markdown",
      "metadata": {
        "id": "G94ppOY1VqAA"
      },
      "source": [
        "# 23. Для какого режиссера зима – самое продуктивное время года? "
      ]
    },
    {
      "cell_type": "code",
      "metadata": {
        "id": "RhNTsamuVqAB"
      },
      "source": [
        "winter_directors = data[(data['release_month'] <= 2) | (data['release_month'] == 12)]\n",
        "winter_pivot = winter_directors.pivot_table(index='director', values='imdb_id', aggfunc = 'count')\n",
        "answers['23'] = winter_pivot[winter_pivot['imdb_id'] == winter_pivot['imdb_id'].max()].index[0]"
      ],
      "execution_count": 30,
      "outputs": []
    },
    {
      "cell_type": "markdown",
      "metadata": {
        "id": "RBo0JVjVVqAF"
      },
      "source": [
        "# 24. Какая студия дает самые длинные названия своим фильмам по количеству символов?"
      ]
    },
    {
      "cell_type": "code",
      "metadata": {
        "id": "QRGS8L0iVqAG"
      },
      "source": [
        "answers['24'] = data[data['title_len'] == data['title_len'].max()].production_companies.values[0].split('|')[-1]"
      ],
      "execution_count": 31,
      "outputs": []
    },
    {
      "cell_type": "markdown",
      "metadata": {
        "id": "9G0hbvR7VqAK"
      },
      "source": [
        "# 25. Описание фильмов какой студии в среднем самые длинные по количеству слов?"
      ]
    },
    {
      "cell_type": "code",
      "metadata": {
        "id": "Ge2GsLNxVqAK"
      },
      "source": [
        "answers['25'] = data[data['descr_len'] == data['descr_len'].max()].production_companies.values[0].split('|')[-1]"
      ],
      "execution_count": 32,
      "outputs": []
    },
    {
      "cell_type": "markdown",
      "metadata": {
        "id": "FJ1AFt90VqAP"
      },
      "source": [
        "# 26. Какие фильмы входят в 1 процент лучших по рейтингу? \n",
        "по vote_average"
      ]
    },
    {
      "cell_type": "code",
      "metadata": {
        "id": "8qmJVq4CVqAQ"
      },
      "source": [
        "best_rating = data.quantile(q=0.99, axis=0, numeric_only=True)['vote_average']\n",
        "data[data['vote_average'] > best_rating].original_title\n",
        "answers['26'] = 'Inside Out, The Dark Knight, 12 Years a Slave'"
      ],
      "execution_count": 33,
      "outputs": []
    },
    {
      "cell_type": "markdown",
      "metadata": {
        "id": "MdXsUXbCVqAV"
      },
      "source": [
        "# 27. Какие актеры чаще всего снимаются в одном фильме вместе?\n"
      ]
    },
    {
      "cell_type": "code",
      "metadata": {
        "id": "fhCTG5zK7PQu"
      },
      "source": [
        "# вариант 1 - проходим по всем актёрам в фильмах, сопоставляя пары в словаре и считая кол-во совпадений\n",
        "cast_rel = {}\n",
        "for actors in data.cast.str.split('|'):\n",
        "    for actor_1 in actors:\n",
        "        for actor_2 in actors:\n",
        "            if actor_1 == actor_2:\n",
        "                continue\n",
        "            rel = f'{actor_1} & {actor_2}'\n",
        "            if rel not in cast_rel:\n",
        "                cast_rel[rel] = 0\n",
        "            cast_rel[rel] += 1\n",
        "\n",
        "answers['27'] = get_top_value(cast_rel)  # Daniel Radcliffe & Rupert Grint"
      ],
      "execution_count": 34,
      "outputs": []
    },
    {
      "cell_type": "code",
      "metadata": {
        "id": "IvMTDD9N7PQv"
      },
      "source": [
        "# вариант 2\n",
        "\n",
        "data_cast = pd.DataFrame({\n",
        "    'cast': sorted(data.cast.str.split('|').values)\n",
        "})\n",
        "\n",
        "data_cast['pairs'] = data_cast.cast.apply(lambda x: combinations(x, 2))\n",
        "\n",
        "f = [item for sublist in data_cast['pairs'].values for item in sublist]\n",
        "\n",
        "answer_27 = ' & '.join(Counter(f).most_common()[1][0])\n",
        "\n",
        "# убедимся, что полученный ответ совпадает с первым вариантом\n",
        "assert answer_27 == answers['27'], 'Alternate answer is not equal to base answer'"
      ],
      "execution_count": 35,
      "outputs": []
    },
    {
      "cell_type": "markdown",
      "metadata": {
        "id": "U0nONFnGVqAX"
      },
      "source": [
        "# Submission"
      ]
    },
    {
      "cell_type": "code",
      "metadata": {
        "colab": {
          "base_uri": "https://localhost:8080/"
        },
        "id": "IfcaRO9-VqAX",
        "outputId": "d1150a43-01b4-4d39-e9f6-62adcd57289a"
      },
      "source": [
        "# в конце можно посмотреть свои ответы к каждому вопросу\n",
        "answers"
      ],
      "execution_count": 36,
      "outputs": [
        {
          "output_type": "execute_result",
          "data": {
            "text/plain": [
              "{'1': 'Pirates of the Caribbean: On Stranger Tides (tt1298650)',\n",
              " '10': 'The Lone Ranger (tt1210819)',\n",
              " '11': 'Drama',\n",
              " '12': 'Drama',\n",
              " '13': 'Peter Jackson',\n",
              " '14': 'Robert Rodriguez',\n",
              " '15': 'Chris Hemsworth',\n",
              " '16': 'Matt Damon',\n",
              " '17': 'Action',\n",
              " '18': 'K-19: The Widowmaker (tt0267626)',\n",
              " '19': 2015,\n",
              " '2': 'Gods and Generals (tt0279111)',\n",
              " '20': 2014,\n",
              " '21': 'September',\n",
              " '22': 450,\n",
              " '23': 'Peter Jackson',\n",
              " '24': 'Four By Two Productions',\n",
              " '25': 'Midnight Picture Show',\n",
              " '26': 'Inside Out, The Dark Knight, 12 Years a Slave',\n",
              " '27': 'Daniel Radcliffe & Rupert Grint',\n",
              " '3': 'Winnie the Pooh (tt1449283)',\n",
              " '4': 110,\n",
              " '5': 107.0,\n",
              " '6': 'Avatar (tt0499549)',\n",
              " '7': 'The Lone Ranger (tt1210819)',\n",
              " '8': 1478,\n",
              " '9': 'The Dark Knight (tt0468569)'}"
            ]
          },
          "metadata": {},
          "execution_count": 36
        }
      ]
    },
    {
      "cell_type": "code",
      "metadata": {
        "colab": {
          "base_uri": "https://localhost:8080/"
        },
        "id": "SiRmHPl8VqAd",
        "outputId": "69df23c0-332f-41aa-d20c-96a0c782ce2f"
      },
      "source": [
        "# и убедиться что ни чего не пропустил)\n",
        "len(answers)"
      ],
      "execution_count": 37,
      "outputs": [
        {
          "output_type": "execute_result",
          "data": {
            "text/plain": [
              "27"
            ]
          },
          "metadata": {},
          "execution_count": 37
        }
      ]
    }
  ]
}
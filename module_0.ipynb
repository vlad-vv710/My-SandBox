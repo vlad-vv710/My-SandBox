{
 "cells": [
  {
   "cell_type": "code",
   "execution_count": 9,
   "id": "1d0de5c9",
   "metadata": {},
   "outputs": [
    {
     "name": "stdout",
     "output_type": "stream",
     "text": [
      "Ваш алгоритм угадывает число в среднем за 5 попыток\n"
     ]
    },
    {
     "data": {
      "text/plain": [
       "5"
      ]
     },
     "execution_count": 9,
     "metadata": {},
     "output_type": "execute_result"
    }
   ],
   "source": [
    "import numpy as np\n",
    "\n",
    "def game_core_v5(number):\n",
    "    '''Каждый раз устанавливаем число на середине известного диапазона ответов, а потом уменьшаем верхнюю границу или \n",
    "       увеличиваем нижнюю границу диапазрна в зависимости от того, больше или меньше ответа наше загаданное число.\n",
    "       Функция принимает загаданное число и возвращает число попыток'''\n",
    "    upper=101 #исходная верхняя граница диапазона\n",
    "    lower=1 #исходная нижняя граница диапазона\n",
    "    count=1 #счетчик ответов\n",
    "    predict=int(np.mean([upper, lower])) #первый ответ - середина исходного диапазона\n",
    "    while number != predict:\n",
    "        if predict > number:\n",
    "            upper=predict #уменьшаем верхнюю границу диапазона\n",
    "        else:\n",
    "            lower=predict #увеличиваем нижнюю границу диапазона\n",
    "        count+=1\n",
    "        predict=int(np.mean([upper, lower])) #находим новый ответ - середину уменьшенного диапазона\n",
    "    return(count) # выход из цикла, если угадали\n",
    "\n",
    "def score_game(game_core):\n",
    "    '''Запускаем игру 1000 раз, чтобы узнать, как быстро игра угадывает число'''\n",
    "    count_ls = []\n",
    "    np.random.seed(1)  # фиксируем RANDOM SEED, чтобы ваш эксперимент был воспроизводим!\n",
    "    random_array = np.random.randint(1,101, size=(1000))\n",
    "    for number in random_array:\n",
    "        count_ls.append(game_core(number))\n",
    "    score = int(np.mean(count_ls))\n",
    "    print(f\"Ваш алгоритм угадывает число в среднем за {score} попыток\")\n",
    "    return(score)\n",
    "\n",
    "# запускаем\n",
    "score_game(game_core_v5)"
   ]
  }
 ],
 "metadata": {
  "kernelspec": {
   "display_name": "Python 3",
   "language": "python",
   "name": "python3"
  },
  "language_info": {
   "codemirror_mode": {
    "name": "ipython",
    "version": 3
   },
   "file_extension": ".py",
   "mimetype": "text/x-python",
   "name": "python",
   "nbconvert_exporter": "python",
   "pygments_lexer": "ipython3",
   "version": "3.8.8"
  }
 },
 "nbformat": 4,
 "nbformat_minor": 5
}
